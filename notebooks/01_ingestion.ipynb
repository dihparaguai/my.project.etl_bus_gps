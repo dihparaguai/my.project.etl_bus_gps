{
 "cells": [
  {
   "cell_type": "code",
   "execution_count": null,
   "metadata": {
    "colab": {
     "base_uri": "https://localhost:8080/"
    },
    "executionInfo": {
     "elapsed": 71165,
     "status": "ok",
     "timestamp": 1747575656644,
     "user": {
      "displayName": "Diego Paraguai",
      "userId": "05044946312759002296"
     },
     "user_tz": 180
    },
    "id": "1HO6mlCaQ-eQ",
    "outputId": "265cffa9-3d27-4cad-986a-038db2f1888b"
   },
   "outputs": [],
   "source": [
    "import kagglehub\n",
    "import os\n",
    "\n",
    "folder = 'new-york-city-transport-statistics'\n",
    "\n",
    "# Baixa os arquivos de GPS\n",
    "path = kagglehub.dataset_download(os.path.join('stoney71', folder))\n",
    "print('opath:', path)\n"
   ]
  },
  {
   "cell_type": "code",
   "execution_count": null,
   "metadata": {},
   "outputs": [],
   "source": [
    "## usar no colab\n",
    "# dpath = '/content/data_raw'\n",
    "\n",
    "# usar no vscode\n",
    "dpath = os.path.abspath('../data/raw')\n",
    "\n",
    "dpath"
   ]
  },
  {
   "cell_type": "code",
   "execution_count": null,
   "metadata": {
    "colab": {
     "base_uri": "https://localhost:8080/"
    },
    "executionInfo": {
     "elapsed": 8,
     "status": "ok",
     "timestamp": 1747575656649,
     "user": {
      "displayName": "Diego Paraguai",
      "userId": "05044946312759002296"
     },
     "user_tz": 180
    },
    "id": "ar3uIvYxvkes",
    "outputId": "255da77c-cf45-4a2e-cf67-d253c5a30e5b"
   },
   "outputs": [],
   "source": [
    "# Cria a para que conterá os arquivos originais baixados\n",
    "os.system(f'mkdir -p {dpath}')\n",
    "\n",
    "# Caminhos de origem do arquivo baixado do Kaggle e Destino como pasta local para\n",
    "opath = os.path.join(path)\n",
    "dpath = os.path.join(dpath)\n",
    "\n",
    "print('opath:', opath)\n",
    "print('dpath:', dpath)\n",
    "\n",
    "# Copia todos os arquivos da pasta do Kaggle para data_raw\n",
    "os.system(f'mv {opath}/* {dpath}/')\n",
    "os.system(f'rm -rf {opath}')"
   ]
  },
  {
   "cell_type": "code",
   "execution_count": null,
   "metadata": {},
   "outputs": [],
   "source": [
    "# # Usar quando estiver no colab\n",
    "# from google.colab import auth\n",
    "# auth.authenticate_user()\n",
    "\n",
    "# # Usar quanto estiver no vscode\n",
    "os.environ[\"GOOGLE_APPLICATION_CREDENTIALS\"] = \"../gcp_key.json\""
   ]
  },
  {
   "cell_type": "code",
   "execution_count": null,
   "metadata": {
    "id": "VJ3PU2Gdd9c6"
   },
   "outputs": [],
   "source": [
    "from google.cloud import storage\n",
    "\n",
    "# Cria o cliente para acessar o bucket\n",
    "client = storage.Client()\n",
    "\n",
    "# Referência pro bucket do GCP\n",
    "bucket = client.bucket('etl_bus_gps')"
   ]
  },
  {
   "cell_type": "code",
   "execution_count": null,
   "metadata": {},
   "outputs": [],
   "source": [
    "# Faz o upload de todos os arquivos para o bucket\n",
    "for filename in os.listdir(dpath):\n",
    "    file_path = os.path.join(dpath, filename)\n",
    "\n",
    "    blob = bucket.blob(f'raw/{filename}')\n",
    "    blob.upload_from_filename(file_path)\n",
    "    print(f'Arquivo \"{filename}\" enviado para a pasta \"raw\" no bucket {bucket.name}')"
   ]
  }
 ],
 "metadata": {
  "colab": {
   "authorship_tag": "ABX9TyNWnVJvxvKbXT+ariPcMMqH",
   "provenance": []
  },
  "kernelspec": {
   "display_name": ".venv",
   "language": "python",
   "name": "python3"
  },
  "language_info": {
   "codemirror_mode": {
    "name": "ipython",
    "version": 3
   },
   "file_extension": ".py",
   "mimetype": "text/x-python",
   "name": "python",
   "nbconvert_exporter": "python",
   "pygments_lexer": "ipython3",
   "version": "3.10.12"
  }
 },
 "nbformat": 4,
 "nbformat_minor": 0
}
