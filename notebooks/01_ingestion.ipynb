{
 "cells": [
  {
   "cell_type": "markdown",
   "metadata": {},
   "source": [
    "# Importações"
   ]
  },
  {
   "cell_type": "code",
   "execution_count": null,
   "metadata": {},
   "outputs": [],
   "source": [
    "import os\n",
    "import kagglehub\n",
    "from google.cloud import storage"
   ]
  },
  {
   "cell_type": "markdown",
   "metadata": {
    "id": "ImedFFxtSeQ1"
   },
   "source": [
    "# Ambiente de Execução: Colab X VSCode"
   ]
  },
  {
   "cell_type": "code",
   "execution_count": null,
   "metadata": {
    "colab": {
     "base_uri": "https://localhost:8080/",
     "height": 36
    },
    "executionInfo": {
     "elapsed": 231,
     "status": "ok",
     "timestamp": 1748442997183,
     "user": {
      "displayName": "Diego Paraguai",
      "userId": "05044946312759002296"
     },
     "user_tz": 180
    },
    "id": "KazJ2SaKCxMV",
    "outputId": "e4483b6e-53dd-43a4-e7ef-b1f299814fa1"
   },
   "outputs": [],
   "source": [
    "# # Usar quando estiver no colab\n",
    "# from google.colab import auth\n",
    "# auth.authenticate_user()\n",
    "# dpath = '/content/bronze/'\n",
    "\n",
    "# dpath"
   ]
  },
  {
   "cell_type": "code",
   "execution_count": null,
   "metadata": {
    "executionInfo": {
     "elapsed": 14,
     "status": "ok",
     "timestamp": 1748442997192,
     "user": {
      "displayName": "Diego Paraguai",
      "userId": "05044946312759002296"
     },
     "user_tz": 180
    },
    "id": "7-ungYaQCxMW"
   },
   "outputs": [],
   "source": [
    "# Usar quanto estiver no vscode\n",
    "dpath = os.path.abspath('../data/bronze')\n",
    "os.environ[\"GOOGLE_APPLICATION_CREDENTIALS\"] = \"../gcp_key.json\"\n",
    "\n",
    "dpath"
   ]
  },
  {
   "cell_type": "markdown",
   "metadata": {
    "id": "E0OoOUPNShEl"
   },
   "source": [
    "# Baixar os arquivos do Kaggle e mover para a pasta do projeto"
   ]
  },
  {
   "cell_type": "code",
   "execution_count": null,
   "metadata": {
    "colab": {
     "base_uri": "https://localhost:8080/"
    },
    "executionInfo": {
     "elapsed": 1741,
     "status": "ok",
     "timestamp": 1748442998921,
     "user": {
      "displayName": "Diego Paraguai",
      "userId": "05044946312759002296"
     },
     "user_tz": 180
    },
    "id": "1HO6mlCaQ-eQ",
    "outputId": "c385ddad-6c1d-43dc-f346-658d74fbd563"
   },
   "outputs": [],
   "source": [
    "folder = 'new-york-city-transport-statistics'\n",
    "\n",
    "path = kagglehub.dataset_download(os.path.join('stoney71', folder)) # Baixa os arquivos de GPS do Kaggle\n",
    "print('opath:', path)"
   ]
  },
  {
   "cell_type": "code",
   "execution_count": null,
   "metadata": {
    "colab": {
     "base_uri": "https://localhost:8080/"
    },
    "executionInfo": {
     "elapsed": 52357,
     "status": "ok",
     "timestamp": 1748443051279,
     "user": {
      "displayName": "Diego Paraguai",
      "userId": "05044946312759002296"
     },
     "user_tz": 180
    },
    "id": "ar3uIvYxvkes",
    "outputId": "78e808cf-cf94-4893-a786-78b2528ef0ab"
   },
   "outputs": [],
   "source": [
    "os.system(f'mkdir -p {dpath}') # Cria a para que conterá os arquivos originais baixados\n",
    "\n",
    "# Caminhos de origem dos arquivos baixados do Kaggle e Destino como pasta local para mover os arquivos\n",
    "opath = os.path.join(path)\n",
    "dpath = os.path.join(dpath)\n",
    "\n",
    "print('opath:', opath)\n",
    "print('dpath:', dpath)\n",
    "\n",
    "# Copia todos os arquivos da pasta do Kaggle para data_raw\n",
    "os.system(f'mv {opath}/* {dpath}/')\n",
    "os.system(f'rm -rf {opath}')"
   ]
  },
  {
   "cell_type": "markdown",
   "metadata": {
    "id": "RakC_AMxSofu"
   },
   "source": [
    "# Salvar os arquivos originais no GCP na primeira camada de dados: 'data/bronze'"
   ]
  },
  {
   "cell_type": "code",
   "execution_count": null,
   "metadata": {
    "executionInfo": {
     "elapsed": 5,
     "status": "ok",
     "timestamp": 1748443051282,
     "user": {
      "displayName": "Diego Paraguai",
      "userId": "05044946312759002296"
     },
     "user_tz": 180
    },
    "id": "VJ3PU2Gdd9c6"
   },
   "outputs": [],
   "source": [
    "client = storage.Client() # Cria o cliente para acessar o bucket\n",
    "\n",
    "bucket = client.bucket('etl_bus_gps') # Referência pro bucket do GCP"
   ]
  },
  {
   "cell_type": "code",
   "execution_count": null,
   "metadata": {
    "colab": {
     "base_uri": "https://localhost:8080/"
    },
    "executionInfo": {
     "elapsed": 76733,
     "status": "ok",
     "timestamp": 1748443128020,
     "user": {
      "displayName": "Diego Paraguai",
      "userId": "05044946312759002296"
     },
     "user_tz": 180
    },
    "id": "fQaAREE5CxMW",
    "outputId": "f02adccc-771a-436a-b48c-768a96faf680"
   },
   "outputs": [],
   "source": [
    "for filename in os.listdir(dpath): # Faz o upload de todos os arquivos para o bucket\n",
    "    file_path = os.path.join(dpath, filename)\n",
    "\n",
    "    blob = bucket.blob(f'bronze/{filename}')\n",
    "    blob.upload_from_filename(file_path)\n",
    "    print(f'Arquivo \"{filename}\" enviado para a pasta \"/bronze\" no bucket \"{bucket.name}\"')"
   ]
  }
 ],
 "metadata": {
  "colab": {
   "collapsed_sections": [
    "ImedFFxtSeQ1",
    "E0OoOUPNShEl",
    "RakC_AMxSofu"
   ],
   "provenance": []
  },
  "kernelspec": {
   "display_name": ".venv",
   "language": "python",
   "name": "python3"
  },
  "language_info": {
   "codemirror_mode": {
    "name": "ipython",
    "version": 3
   },
   "file_extension": ".py",
   "mimetype": "text/x-python",
   "name": "python",
   "nbconvert_exporter": "python",
   "pygments_lexer": "ipython3",
   "version": "3.10.12"
  }
 },
 "nbformat": 4,
 "nbformat_minor": 0
}
