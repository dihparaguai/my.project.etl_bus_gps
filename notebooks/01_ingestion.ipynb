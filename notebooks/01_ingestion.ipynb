{
 "cells": [
  {
   "cell_type": "markdown",
   "metadata": {},
   "source": [
    "# Importações"
   ]
  },
  {
   "cell_type": "code",
   "execution_count": null,
   "metadata": {},
   "outputs": [],
   "source": [
    "import os\n",
    "import kagglehub\n",
    "import pandas as pd\n",
    "from google.cloud import storage"
   ]
  },
  {
   "cell_type": "markdown",
   "metadata": {
    "id": "ImedFFxtSeQ1"
   },
   "source": [
    "# Ambiente de Execução: Colab X VSCode"
   ]
  },
  {
   "cell_type": "code",
   "execution_count": null,
   "metadata": {
    "colab": {
     "base_uri": "https://localhost:8080/",
     "height": 36
    },
    "executionInfo": {
     "elapsed": 231,
     "status": "ok",
     "timestamp": 1748442997183,
     "user": {
      "displayName": "Diego Paraguai",
      "userId": "05044946312759002296"
     },
     "user_tz": 180
    },
    "id": "KazJ2SaKCxMV",
    "outputId": "e4483b6e-53dd-43a4-e7ef-b1f299814fa1"
   },
   "outputs": [],
   "source": [
    "# # Usar no Google Colab\n",
    "\n",
    "# from google.colab import auth\n",
    "# auth.authenticate_user()\n",
    "# path_bronze = '/content/bronze/'\n",
    "\n",
    "# path_bronze"
   ]
  },
  {
   "cell_type": "code",
   "execution_count": null,
   "metadata": {
    "executionInfo": {
     "elapsed": 14,
     "status": "ok",
     "timestamp": 1748442997192,
     "user": {
      "displayName": "Diego Paraguai",
      "userId": "05044946312759002296"
     },
     "user_tz": 180
    },
    "id": "7-ungYaQCxMW"
   },
   "outputs": [],
   "source": [
    "# Usar no VSCode\n",
    "\n",
    "path_bronze = os.path.abspath('../data/temp/bronze')\n",
    "os.environ[\"GOOGLE_APPLICATION_CREDENTIALS\"] = \"../gcp_key.json\"\n",
    "\n",
    "path_bronze"
   ]
  },
  {
   "cell_type": "markdown",
   "metadata": {
    "id": "E0OoOUPNShEl"
   },
   "source": [
    "# Baixar os arquivos do Kaggle e mover para a pasta do projeto"
   ]
  },
  {
   "cell_type": "code",
   "execution_count": null,
   "metadata": {
    "colab": {
     "base_uri": "https://localhost:8080/"
    },
    "executionInfo": {
     "elapsed": 1741,
     "status": "ok",
     "timestamp": 1748442998921,
     "user": {
      "displayName": "Diego Paraguai",
      "userId": "05044946312759002296"
     },
     "user_tz": 180
    },
    "id": "1HO6mlCaQ-eQ",
    "outputId": "c385ddad-6c1d-43dc-f346-658d74fbd563"
   },
   "outputs": [],
   "source": [
    "kaggle_owner = 'stoney71'\n",
    "kaggle_dataset = 'new-york-city-transport-statistics'\n",
    "\n",
    "def download_kaggle_dataset(path_bronze, kaggle_owner, kaggle_dataset):\n",
    "    print('Iniciando download dos arquivos do Kaggle')\n",
    "    path_origin = kagglehub.dataset_download(os.path.join(kaggle_owner, kaggle_dataset)) # Baixa os arquivos de GPS do Kaggle\n",
    "    \n",
    "    os.system(f'mkdir -p {path_bronze}') # Cria a para que conterá os arquivos originais baixados\n",
    "\n",
    "    # Copia todos os arquivos da pasta do Kaggle para data_raw\n",
    "    os.system(f'mv {path_origin}/* {path_bronze}/')\n",
    "    os.system(f'rm -rf {path_origin}')\n",
    "    \n",
    "    print(f'Arquivos baixados e movidos para {path_bronze}.')"
   ]
  },
  {
   "cell_type": "code",
   "execution_count": null,
   "metadata": {},
   "outputs": [],
   "source": [
    "download_kaggle_dataset(path_bronze, kaggle_owner, kaggle_dataset)"
   ]
  },
  {
   "cell_type": "markdown",
   "metadata": {
    "id": "RakC_AMxSofu"
   },
   "source": [
    "# Salvar os arquivos originais no Cloud na primeira camada de dados: 'data/bronze'"
   ]
  },
  {
   "cell_type": "code",
   "execution_count": null,
   "metadata": {
    "executionInfo": {
     "elapsed": 5,
     "status": "ok",
     "timestamp": 1748443051282,
     "user": {
      "displayName": "Diego Paraguai",
      "userId": "05044946312759002296"
     },
     "user_tz": 180
    },
    "id": "VJ3PU2Gdd9c6"
   },
   "outputs": [],
   "source": [
    "def extract_year_month(date): # funcao que transformar uma data em ano e mes\n",
    "    return date.strftime('%y%m')"
   ]
  },
  {
   "cell_type": "code",
   "execution_count": null,
   "metadata": {},
   "outputs": [],
   "source": [
    "year_month = extract_year_month(pd.to_datetime('2017-06-01'))  # Exemplo de uso da função, como se fosse o dia 01 de junho de 2017\n",
    "\n",
    "print(f'Year-Month: {year_month}')"
   ]
  },
  {
   "cell_type": "code",
   "execution_count": null,
   "metadata": {
    "colab": {
     "base_uri": "https://localhost:8080/"
    },
    "executionInfo": {
     "elapsed": 76733,
     "status": "ok",
     "timestamp": 1748443128020,
     "user": {
      "displayName": "Diego Paraguai",
      "userId": "05044946312759002296"
     },
     "user_tz": 180
    },
    "id": "fQaAREE5CxMW",
    "outputId": "f02adccc-771a-436a-b48c-768a96faf680"
   },
   "outputs": [],
   "source": [
    "def upload_to_bucket_bronze(path_bronze, file_name_bronze): # Faz o upload de todos os arquivos para o bucket\n",
    "    print('Iniciando upload do arquivo para a Cloud.')\n",
    "    client = storage.Client() # Cria o cliente para acessar o bucket\n",
    "\n",
    "    bucket = client.bucket('etl_bus_gps') # Referência pro bucket do GCP\n",
    "    path_folder_file_name_bronze = os.path.join(path_bronze, file_name_bronze)\n",
    "\n",
    "    blob = bucket.blob(f'bronze/temp/{file_name_bronze}')\n",
    "    blob.upload_from_filename(path_folder_file_name_bronze)\n",
    "    print(f'Arquivo \"{file_name_bronze}\" enviado para a pasta \"/bronze\" no bucket \"{bucket.name}\"')"
   ]
  },
  {
   "cell_type": "code",
   "execution_count": null,
   "metadata": {},
   "outputs": [],
   "source": [
    "file_name_bronze = f'mta_{year_month}.csv'\n",
    "\n",
    "upload_to_bucket_bronze(path_bronze, file_name_bronze)  # Faz o upload do arquivo para o bucket"
   ]
  },
  {
   "cell_type": "markdown",
   "metadata": {},
   "source": [
    "# Pipeline de Execução"
   ]
  },
  {
   "cell_type": "code",
   "execution_count": null,
   "metadata": {},
   "outputs": [],
   "source": [
    "def pipeline_bronze(year_month):\n",
    "    file_name_bronze = f'mta_{year_month}.csv'  # Define o nome do arquivo bronze com base no ano e mês\n",
    "    path_bronze = os.path.abspath('../data/temp/bronze')\n",
    "    \n",
    "    upload_to_bucket_bronze(path_bronze, file_name_bronze)  # Faz o upload do arquivo para o bucket\n",
    "    \n",
    "    print(f'Pipeline bronze concluído para o arquivo: {file_name_bronze}\\n')"
   ]
  },
  {
   "cell_type": "code",
   "execution_count": null,
   "metadata": {},
   "outputs": [],
   "source": [
    "pipeline_bronze(year_month)  # Executa a pipeline bronze"
   ]
  },
  {
   "cell_type": "code",
   "execution_count": null,
   "metadata": {},
   "outputs": [],
   "source": [
    "year_month_list = [] # Lista para armazenar os anos e meses\n",
    "\n",
    "year_month_list.append(extract_year_month(pd.to_datetime('2017-06-01'))) # Adiciona o ano e mês de junho de 2017\n",
    "year_month_list.append(extract_year_month(pd.to_datetime('2017-08-01'))) # Adiciona o ano e mês de agosto de 2017\n",
    "year_month_list.append(extract_year_month(pd.to_datetime('2017-10-01'))) # Adiciona o ano e mês de outubro de 2017\n",
    "year_month_list.append(extract_year_month(pd.to_datetime('2017-12-01'))) # Adiciona o ano e mês de dezembro de 2017\n",
    "\n",
    "year_month_list"
   ]
  },
  {
   "cell_type": "code",
   "execution_count": null,
   "metadata": {},
   "outputs": [],
   "source": [
    "path_bronze = os.path.abspath('../data/temp/bronze')\n",
    "kaggle_owner = 'stoney71'\n",
    "kaggle_dataset = 'new-york-city-transport-statistics'\n",
    "download_kaggle_dataset(path_bronze, kaggle_owner, kaggle_dataset)\n",
    "\n",
    "for year_month in year_month_list:\n",
    "    pipeline_bronze(year_month)  # Executa o pipeline para o ano e mês especificados"
   ]
  }
 ],
 "metadata": {
  "colab": {
   "collapsed_sections": [
    "ImedFFxtSeQ1",
    "E0OoOUPNShEl",
    "RakC_AMxSofu"
   ],
   "provenance": []
  },
  "kernelspec": {
   "display_name": ".venv",
   "language": "python",
   "name": "python3"
  },
  "language_info": {
   "codemirror_mode": {
    "name": "ipython",
    "version": 3
   },
   "file_extension": ".py",
   "mimetype": "text/x-python",
   "name": "python",
   "nbconvert_exporter": "python",
   "pygments_lexer": "ipython3",
   "version": "3.10.12"
  }
 },
 "nbformat": 4,
 "nbformat_minor": 0
}
