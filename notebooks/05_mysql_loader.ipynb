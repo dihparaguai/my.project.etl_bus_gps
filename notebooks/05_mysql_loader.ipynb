{
 "cells": [
  {
   "cell_type": "code",
   "execution_count": null,
   "id": "5872e0ad",
   "metadata": {},
   "outputs": [],
   "source": [
    "import os\n",
    "import pandas as pd\n",
    "from IPython.display import Markdown, display\n"
   ]
  },
  {
   "cell_type": "code",
   "execution_count": null,
   "id": "83f32fec",
   "metadata": {},
   "outputs": [],
   "source": [
    "# # Usar no Google Colab\n",
    "# from google.colab import auth\n",
    "# auth.authenticate_user()\n",
    "# path_folder_gold_dim = '/content/'\n",
    "# path_folder_gold_fact = '/content/'"
   ]
  },
  {
   "cell_type": "code",
   "execution_count": null,
   "id": "0a83e7d4",
   "metadata": {},
   "outputs": [],
   "source": [
    "# Usar no VSCode\n",
    "os.environ[\"GOOGLE_APPLICATION_CREDENTIALS\"] = \"../gcp_key.json\"\n",
    "path_folder_gold_dim = f'../data/temp/gold/dim/'\n",
    "path_folder_gold_fact = f'../data/temp/gold/fact/'"
   ]
  },
  {
   "cell_type": "code",
   "execution_count": null,
   "id": "4ac7f76c",
   "metadata": {},
   "outputs": [],
   "source": [
    "def extract_year_month(date): # Função para extrair o ano e o mês de uma data\n",
    "    return date.strftime('%y%m')\n",
    "\n",
    "year_month = extract_year_month(pd.to_datetime('2017-06-01'))  # Exemplo de uso da função, como se fosse o dia 01 de junho de 2017\n",
    "print(f'Year-Month: {year_month}')"
   ]
  },
  {
   "cell_type": "code",
   "execution_count": null,
   "id": "52d78af1",
   "metadata": {},
   "outputs": [],
   "source": [
    "file_name_dim_Line = 'dim_mta_PublishedLine.csv'\n",
    "file_name_dim_Vehicle = 'dim_mta_VehicleRef.csv'\n",
    "file_name_fact = f'fact_mta_{year_month}.csv'"
   ]
  },
  {
   "cell_type": "code",
   "execution_count": null,
   "id": "fa9a5324",
   "metadata": {},
   "outputs": [],
   "source": [
    "def read_csv_modeled_data(path_folder_gold, file_name): # Função para ler o arquivo CSV limpo\n",
    "    df = pd.read_csv(os.path.join(path_folder_gold, file_name))\n",
    "    \n",
    "    print(f'Arquivo {file_name} lido.')\n",
    "    return df\n",
    "\n",
    "df_dim_Line = read_csv_modeled_data(path_folder_gold_dim, file_name_dim_Line)\n",
    "df_dim_Vehicle = read_csv_modeled_data(path_folder_gold_dim, file_name_dim_Vehicle)\n",
    "df_fact = read_csv_modeled_data(path_folder_gold_fact, file_name_fact)\n",
    "\n",
    "display(Markdown(f'# {file_name_dim_Line}'))\n",
    "display(df_dim_Line.info())\n",
    "display(df_dim_Line.head())\n",
    "\n",
    "display(Markdown(f'# {file_name_dim_Vehicle}'))\n",
    "display(df_dim_Vehicle.info())\n",
    "display(df_dim_Vehicle.head())\n",
    "\n",
    "display(Markdown(f'# {file_name_fact}'))\n",
    "display(df_fact.info())\n",
    "display(df_fact.head())"
   ]
  },
  {
   "cell_type": "code",
   "execution_count": null,
   "id": "230722e6",
   "metadata": {},
   "outputs": [],
   "source": []
  }
 ],
 "metadata": {
  "kernelspec": {
   "display_name": ".venv",
   "language": "python",
   "name": "python3"
  },
  "language_info": {
   "codemirror_mode": {
    "name": "ipython",
    "version": 3
   },
   "file_extension": ".py",
   "mimetype": "text/x-python",
   "name": "python",
   "nbconvert_exporter": "python",
   "pygments_lexer": "ipython3",
   "version": "3.10.12"
  }
 },
 "nbformat": 4,
 "nbformat_minor": 5
}
