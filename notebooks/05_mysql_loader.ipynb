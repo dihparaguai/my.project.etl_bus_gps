{
 "cells": [
  {
   "cell_type": "code",
   "execution_count": null,
   "id": "5872e0ad",
   "metadata": {},
   "outputs": [],
   "source": [
    "import os\n",
    "import pandas as pd\n",
    "from IPython.display import Markdown, display\n",
    "import mysql.connector as ms"
   ]
  },
  {
   "cell_type": "code",
   "execution_count": null,
   "id": "83f32fec",
   "metadata": {},
   "outputs": [],
   "source": [
    "# # Usar no Google Colab\n",
    "# from google.colab import auth\n",
    "# auth.authenticate_user()\n",
    "# path_folder_gold_dim = '/content/'\n",
    "# path_folder_gold_fact = '/content/'"
   ]
  },
  {
   "cell_type": "code",
   "execution_count": null,
   "id": "0a83e7d4",
   "metadata": {},
   "outputs": [],
   "source": [
    "# Usar no VSCode\n",
    "os.environ[\"GOOGLE_APPLICATION_CREDENTIALS\"] = \"../gcp_key.json\"\n",
    "path_folder_gold_dim = f'../data/temp/gold/dim/'\n",
    "path_folder_gold_fact = f'../data/temp/gold/fact/'"
   ]
  },
  {
   "cell_type": "code",
   "execution_count": null,
   "id": "4ac7f76c",
   "metadata": {},
   "outputs": [],
   "source": [
    "def extract_year_month(date): # Função para extrair o ano e o mês de uma data\n",
    "    return date.strftime('%y%m')\n",
    "\n",
    "year_month = extract_year_month(pd.to_datetime('2017-06-01'))  # Exemplo de uso da função, como se fosse o dia 01 de junho de 2017\n",
    "print(f'Year-Month: {year_month}')"
   ]
  },
  {
   "cell_type": "code",
   "execution_count": null,
   "id": "52d78af1",
   "metadata": {},
   "outputs": [],
   "source": [
    "file_name_dim_Line = 'dim_mta_PublishedLine.csv'\n",
    "file_name_dim_Vehicle = 'dim_mta_VehicleRef.csv'\n",
    "file_name_fact = f'fact_mta_{year_month}.csv'"
   ]
  },
  {
   "cell_type": "code",
   "execution_count": null,
   "id": "fa9a5324",
   "metadata": {},
   "outputs": [],
   "source": [
    "def read_csv_modeled_data(path_folder_gold, file_name): # Função para ler o arquivo CSV limpo\n",
    "    df = pd.read_csv(os.path.join(path_folder_gold, file_name))\n",
    "    \n",
    "    print(f'Arquivo {file_name} lido.')\n",
    "    return df\n",
    "\n",
    "df_dim_Line = read_csv_modeled_data(path_folder_gold_dim, file_name_dim_Line)\n",
    "df_dim_Vehicle = read_csv_modeled_data(path_folder_gold_dim, file_name_dim_Vehicle)\n",
    "df_fact = read_csv_modeled_data(path_folder_gold_fact, file_name_fact)\n",
    "\n",
    "display(Markdown(f'# {file_name_dim_Line}'))\n",
    "display(df_dim_Line.info())\n",
    "display(df_dim_Line.head())\n",
    "\n",
    "display(Markdown(f'# {file_name_dim_Vehicle}'))\n",
    "display(df_dim_Vehicle.info())\n",
    "display(df_dim_Vehicle.head())\n",
    "\n",
    "display(Markdown(f'# {file_name_fact}'))\n",
    "display(df_fact.info())\n",
    "display(df_fact.head())"
   ]
  },
  {
   "cell_type": "code",
   "execution_count": null,
   "id": "d9144cf6",
   "metadata": {},
   "outputs": [],
   "source": [
    "def format_hhmmss(td):\n",
    "    td = pd.to_timedelta(td)  # Converte a string para timedelta\n",
    "    total_hours = td.components.hours\n",
    "    minutes = td.components.minutes\n",
    "    seconds = td.components.seconds\n",
    "    return f\"{total_hours:02d}:{minutes:02d}:{seconds:02d}\"\n",
    "\n",
    "\n",
    "def change_data_types(df): # Função para alterar os tipos de dados das colunas do DataFrame\n",
    "    df['RecordedAtDate'] = pd.to_datetime(df['RecordedAtDate']) # Converte a coluna RecordedAtDate para datetime\n",
    "    df['RecordedAtTime'] = df['RecordedAtTime'].apply(format_hhmmss) # Converte a coluna RecordedAtTime para ser reconhecida como TIME no MySQL\n",
    "    df['ScheduledArrivalTime'] = df['ScheduledArrivalTime'].apply(format_hhmmss) # Converte a coluna ScheduledArrivalTime para ser reconhecida como TIME no MySQL\n",
    "    df = df.astype({'PublishedLineName': 'string', # Converte as colunas PublishedLineName e VehicleRef para string\n",
    "        'VehicleRef': 'string', \n",
    "        'RecordedAtTime': 'string', \n",
    "        'ScheduledArrivalTime': 'string'}) \n",
    "    \n",
    "    print(\"Tipos de dados das colunas alterados.\")\n",
    "    return df\n",
    "\n",
    "\n",
    "df_dim_Line['PublishedLineName'] = df_dim_Line['PublishedLineName'].astype('string')\n",
    "df_dim_Vehicle['VehicleRef'] = df_dim_Vehicle['VehicleRef'].astype('string')\n",
    "df_fact = change_data_types(df_fact)\n",
    "\n",
    "display(Markdown(f'# {file_name_dim_Line}'))\n",
    "display(df_dim_Line.info())\n",
    "display(df_dim_Line.head())\n",
    "\n",
    "display(Markdown(f'# {file_name_dim_Vehicle}'))\n",
    "display(df_dim_Vehicle.info())\n",
    "display(df_dim_Vehicle.head())\n",
    "\n",
    "display(Markdown(f'# {file_name_fact}'))\n",
    "display(df_fact.info())\n",
    "display(df_fact.head())"
   ]
  },
  {
   "cell_type": "code",
   "execution_count": null,
   "id": "230722e6",
   "metadata": {},
   "outputs": [],
   "source": [
    "def connect_to_mysql():\n",
    "    try:\n",
    "        connection = ms.connect(\n",
    "            host='localhost',\n",
    "            user='diego',\n",
    "            password='diego',\n",
    "        )\n",
    "        print(\"Conexão ao MySQL estabelecida.\")\n",
    "        return connection\n",
    "    except ms.Error as err:\n",
    "        print(f\"Erro ao conectar ao MySQL: {err}\")\n",
    "        return None\n",
    "    \n",
    "ms_connection = connect_to_mysql()"
   ]
  },
  {
   "cell_type": "code",
   "execution_count": null,
   "id": "7d78ea5b",
   "metadata": {},
   "outputs": [],
   "source": [
    "def create_cursor(ms_connection):\n",
    "    try:\n",
    "        ms_cursor = ms_connection.cursor()\n",
    "        print(\"Cursor do MySQL criado.\")\n",
    "        return ms_cursor\n",
    "    except:\n",
    "        print(\"Erro ao criar o cursor do MySQL.\")\n",
    "        return None\n",
    "    \n",
    "ms_cursor = create_cursor(ms_connection)"
   ]
  },
  {
   "cell_type": "code",
   "execution_count": null,
   "id": "a1b99bb4",
   "metadata": {},
   "outputs": [],
   "source": [
    "def drop_db(ms_cursor, db_name):\n",
    "    try:\n",
    "        ms_cursor.execute(f\"DROP DATABASE IF EXISTS {db_name}\")\n",
    "        print(f\"Banco de dados {db_name} excluído, se existia.\")\n",
    "    except ms.Error as err:\n",
    "        print(f\"Erro ao excluir o banco de dados {db_name}: {err}\")\n",
    "    \n",
    "db_name = 'db_bus_gps'    \n",
    "\n",
    "drop_db(ms_cursor, db_name)"
   ]
  },
  {
   "cell_type": "code",
   "execution_count": null,
   "id": "9d2bd324",
   "metadata": {},
   "outputs": [],
   "source": [
    "def create_db(db_name, ms_cursor):\n",
    "    sql = f\"CREATE DATABASE IF NOT EXISTS {db_name}\"\n",
    "    try:\n",
    "        ms_cursor.execute(sql)\n",
    "        ms_cursor.execute(f\"USE {db_name}\")\n",
    "        print(f\"Banco de dados '{db_name}' criado ou já existe, e selecionado.\")\n",
    "    except ms.Error as err:\n",
    "        print(f\"Erro ao criar o banco de dados '{db_name}': {err}.\")\n",
    "        \n",
    "create_db(db_name, ms_cursor)"
   ]
  },
  {
   "cell_type": "code",
   "execution_count": null,
   "id": "5a3d2589",
   "metadata": {},
   "outputs": [],
   "source": [
    "def create_tb(tb_name, sql, ms_cursor):\n",
    "    try:\n",
    "        ms_cursor.execute(sql)\n",
    "        print(f\"Tabela '{tb_name}' criada ou já existe.\")\n",
    "    except ms.Error as err:\n",
    "        print(f\"Erro ao criar a tabela '{tb_name}': {err}.\") "
   ]
  },
  {
   "cell_type": "code",
   "execution_count": null,
   "id": "026c1013",
   "metadata": {},
   "outputs": [],
   "source": [
    "tb_name_line = 'tb_line'\n",
    "        \n",
    "sql = f'''\n",
    "    CREATE TABLE IF NOT EXISTS {tb_name_line} (\n",
    "        Published_Line_Name VARCHAR(20) NOT NULL PRIMARY KEY\n",
    "    )\n",
    "'''\n",
    "\n",
    "create_tb(tb_name_line, sql, ms_cursor)   \n",
    "\n",
    "ms_cursor.execute(\"SHOW TABLES\")\n",
    "print(ms_cursor.fetchall())"
   ]
  },
  {
   "cell_type": "code",
   "execution_count": null,
   "id": "0b48d6a6",
   "metadata": {},
   "outputs": [],
   "source": [
    "tb_name_vihicle = 'tb_vehicle'\n",
    "        \n",
    "sql = f'''\n",
    "    CREATE TABLE IF NOT EXISTS {tb_name_vihicle} (\n",
    "        Vehicle_Ref VARCHAR(20) NOT NULL PRIMARY KEY\n",
    "    )\n",
    "'''\n",
    "\n",
    "create_tb(tb_name_vihicle, sql, ms_cursor)   \n",
    "\n",
    "ms_cursor.execute(\"SHOW TABLES\")\n",
    "print(ms_cursor.fetchall())"
   ]
  },
  {
   "cell_type": "code",
   "execution_count": null,
   "id": "b6fa3c6a",
   "metadata": {},
   "outputs": [],
   "source": [
    "tb_name_bus_gps = 'tb_bus_gps'\n",
    "\n",
    "sql = f'''CREATE TABLE IF NOT EXISTS {tb_name_bus_gps} (\n",
    "        Recorded_At_Time        TIME NOT NULL,\n",
    "        Direction_Ref           INT NOT NULL,\n",
    "        Published_Line_Name     VARCHAR(20) NOT NULL,\n",
    "        Vehicle_Ref             VARCHAR(20) NOT NULL,\n",
    "        Scheduled_Arrival_Time  TIME NOT NULL,\n",
    "        Recorded_A_tDate        DATE NOT NULL,\n",
    "        Diff_Arrival_Mins       INT NOT NULL,\n",
    "        Recorded_Time_Range     INT NOT NULL,\n",
    "        Scheduled_Time_Range    INT NOT NULL,\n",
    "        \n",
    "        FOREIGN KEY (Vehicle_Ref) REFERENCES tb_vehicle(Vehicle_Ref),\n",
    "        FOREIGN KEY (Published_Line_Name) REFERENCES tb_line(Published_Line_Name)\n",
    "    )\n",
    "    '''\n",
    "    \n",
    "create_tb(tb_name_bus_gps, sql, ms_cursor)  \n",
    "\n",
    "ms_cursor.execute(\"SHOW TABLES\")\n",
    "\n",
    "print(ms_cursor.fetchall()) "
   ]
  },
  {
   "cell_type": "code",
   "execution_count": null,
   "id": "355c3cba",
   "metadata": {},
   "outputs": [],
   "source": [
    "columns_mapping = {\n",
    "    'RecordedAtTime': 'Recorded_At_Time',\n",
    "    'DirectionRef': 'Direction_Ref',\n",
    "    'PublishedLineName': 'Published_Line_Name',\n",
    "    'VehicleRef': 'Vehicle_Ref',\n",
    "    'ScheduledArrivalTime': 'Scheduled_Arrival_Time',\n",
    "    'RecordedAtDate': 'Recorded_A_tDate',\n",
    "    'DiffArrivalMins': 'Diff_Arrival_Mins',\n",
    "    'RecordedTimeRange': 'Recorded_Time_Range',\n",
    "    'ScheduledTimeRange': 'Scheduled_Time_Range'\n",
    "}\n",
    "\n",
    "df_dim_Line.rename(columns=columns_mapping, inplace=True)\n",
    "df_dim_Vehicle.rename(columns=columns_mapping, inplace=True)\n",
    "df_fact.rename(columns=columns_mapping, inplace=True)\n",
    "\n",
    "display(df_dim_Line.columns)\n",
    "display(df_dim_Vehicle.columns)\n",
    "display(df_fact.columns)"
   ]
  },
  {
   "cell_type": "code",
   "execution_count": null,
   "id": "2f5195c1",
   "metadata": {},
   "outputs": [],
   "source": [
    "def insert_update_data(df, tb_name, ms_cursor, ms_connection):\n",
    "    batch_size = 200000  # Definindo o tamanho do lote para inserção\n",
    "\n",
    "    for i in range(0, len(df), batch_size):\n",
    "        chunk = df.iloc[i:i + batch_size]\n",
    "        \n",
    "        sql = f\"INSERT IGNORE INTO {tb_name} VALUES ({', '.join(['%s'] * len(chunk.columns))})\"\n",
    "        \n",
    "        try:\n",
    "            values = [tuple(row) for i, row in chunk.iterrows()]\n",
    "            ms_cursor.executemany(sql, values)\n",
    "            ms_connection.commit()\n",
    "            print(f\"{ms_cursor.rowcount} dados inseridos na tabela '{tb_name}'.\")\n",
    "        except ms.Error as err:\n",
    "            print(f\"Erro ao inserir dados na tabela {tb_name}: {err}\")\n",
    "            break\n"
   ]
  },
  {
   "cell_type": "code",
   "execution_count": null,
   "id": "593faf11",
   "metadata": {},
   "outputs": [],
   "source": [
    "insert_update_data(df_dim_Line, tb_name_line, ms_cursor, ms_connection)\n",
    "\n",
    "ms_cursor.execute(f\"SELECT * FROM {tb_name_line} LIMIT 10\")\n",
    "print(ms_cursor.fetchall())"
   ]
  },
  {
   "cell_type": "code",
   "execution_count": null,
   "id": "b491c833",
   "metadata": {},
   "outputs": [],
   "source": [
    "insert_update_data(df_dim_Vehicle, tb_name_vihicle, ms_cursor, ms_connection)\n",
    "\n",
    "ms_cursor.execute(f\"SELECT * FROM {tb_name_vihicle} LIMIT 10\")\n",
    "print(ms_cursor.fetchall())"
   ]
  },
  {
   "cell_type": "code",
   "execution_count": null,
   "id": "6699b942",
   "metadata": {},
   "outputs": [],
   "source": [
    "insert_update_data(df_fact, tb_name_bus_gps, ms_cursor, ms_connection)\n",
    "\n",
    "ms_cursor.execute(f\"SELECT * FROM {tb_name_bus_gps} LIMIT 10\")\n",
    "print(ms_cursor.fetchall())"
   ]
  }
 ],
 "metadata": {
  "kernelspec": {
   "display_name": ".venv",
   "language": "python",
   "name": "python3"
  },
  "language_info": {
   "codemirror_mode": {
    "name": "ipython",
    "version": 3
   },
   "file_extension": ".py",
   "mimetype": "text/x-python",
   "name": "python",
   "nbconvert_exporter": "python",
   "pygments_lexer": "ipython3",
   "version": "3.10.12"
  }
 },
 "nbformat": 4,
 "nbformat_minor": 5
}
