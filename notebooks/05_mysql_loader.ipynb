{
 "cells": [
  {
   "cell_type": "markdown",
   "id": "e252af81",
   "metadata": {},
   "source": [
    "# Importações"
   ]
  },
  {
   "cell_type": "code",
   "execution_count": null,
   "id": "5872e0ad",
   "metadata": {},
   "outputs": [],
   "source": [
    "import os\n",
    "import pandas as pd\n",
    "from IPython.display import Markdown, display\n",
    "import mysql.connector as ms\n",
    "from dotenv import load_dotenv\n",
    "load_dotenv()"
   ]
  },
  {
   "cell_type": "markdown",
   "id": "14f222f0",
   "metadata": {},
   "source": [
    "# Ambiente de Execução: Colab X VSCode"
   ]
  },
  {
   "cell_type": "code",
   "execution_count": null,
   "id": "83f32fec",
   "metadata": {},
   "outputs": [],
   "source": [
    "# # Usar no Google Colab\n",
    "# from google.colab import auth\n",
    "# auth.authenticate_user()\n",
    "# path_folder_gold_dim = '/content/'\n",
    "# path_folder_gold_fact = '/content/'"
   ]
  },
  {
   "cell_type": "code",
   "execution_count": null,
   "id": "0a83e7d4",
   "metadata": {},
   "outputs": [],
   "source": [
    "# Usar no VSCode\n",
    "os.environ[\"GOOGLE_APPLICATION_CREDENTIALS\"] = \"../gcp_key.json\"\n",
    "path_folder_gold_dim = f'../data/temp/gold/dim/'\n",
    "path_folder_gold_fact = f'../data/temp/gold/fact/'"
   ]
  },
  {
   "cell_type": "markdown",
   "id": "dc893d68",
   "metadata": {},
   "source": [
    "# Leitura dos Dados Modelados"
   ]
  },
  {
   "cell_type": "code",
   "execution_count": null,
   "id": "4ac7f76c",
   "metadata": {},
   "outputs": [],
   "source": [
    "def extract_year_month(date): # Função para extrair o ano e o mês de uma data\n",
    "    return date.strftime('%y%m')\n",
    "\n",
    "year_month = extract_year_month(pd.to_datetime('2017-06-01'))  # Exemplo de uso da função, como se fosse o dia 01 de junho de 2017\n",
    "print(f'Year-Month: {year_month}')"
   ]
  },
  {
   "cell_type": "code",
   "execution_count": null,
   "id": "52d78af1",
   "metadata": {},
   "outputs": [],
   "source": [
    "file_name_dim_Line = 'dim_mta_PublishedLine.csv'\n",
    "file_name_dim_Vehicle = 'dim_mta_VehicleRef.csv'\n",
    "file_name_fact = f'fact_mta_{year_month}.csv'"
   ]
  },
  {
   "cell_type": "code",
   "execution_count": null,
   "id": "fa9a5324",
   "metadata": {},
   "outputs": [],
   "source": [
    "def read_csv_modeled_data(path_folder_gold, file_name): # Função para ler o arquivo CSV limpo\n",
    "    df = pd.read_csv(os.path.join(path_folder_gold, file_name))\n",
    "    \n",
    "    print(f'Arquivo {file_name} lido.')\n",
    "    return df\n",
    "\n",
    "df_dim_Line = read_csv_modeled_data(path_folder_gold_dim, file_name_dim_Line)\n",
    "df_dim_Vehicle = read_csv_modeled_data(path_folder_gold_dim, file_name_dim_Vehicle)\n",
    "df_fact = read_csv_modeled_data(path_folder_gold_fact, file_name_fact)\n",
    "\n",
    "display(Markdown(f'# {file_name_dim_Line}')) # Exibe o nome do arquivo com formatação Markdown de título\n",
    "display(df_dim_Line.info())\n",
    "display(df_dim_Line.head())\n",
    "\n",
    "display(Markdown(f'# {file_name_dim_Vehicle}'))\n",
    "display(df_dim_Vehicle.info())\n",
    "display(df_dim_Vehicle.head())\n",
    "\n",
    "display(Markdown(f'# {file_name_fact}'))\n",
    "display(df_fact.info())\n",
    "display(df_fact.head())"
   ]
  },
  {
   "cell_type": "markdown",
   "id": "eb84cd55",
   "metadata": {},
   "source": [
    "# Ajustes de tipos para inserção no Banco de Dados"
   ]
  },
  {
   "cell_type": "code",
   "execution_count": null,
   "id": "d9144cf6",
   "metadata": {},
   "outputs": [],
   "source": [
    "def format_hhmmss(td): # Função para formatar uma string de duração para o formato HH:MM:SS\n",
    "    td = pd.to_timedelta(td)  # Converte a string para timedelta para usar as funções de tempo\n",
    "    total_hours = td.components.hours # Obtém o total de horas\n",
    "    minutes = td.components.minutes # Obtém os minutos\n",
    "    seconds = td.components.seconds # Obtém os segundos\n",
    "    return f\"{total_hours:02d}:{minutes:02d}:{seconds:02d}\" # Formata a string no formato HH:MM:SS\n",
    "\n",
    "\n",
    "def change_data_types(df): # Função para alterar os tipos de dados das colunas do DataFrame\n",
    "    df['RecordedAtDate'] = pd.to_datetime(df['RecordedAtDate']) # Converte a coluna RecordedAtDate para datetime\n",
    "    df['RecordedAtTime'] = df['RecordedAtTime'].apply(format_hhmmss) # Converte a coluna RecordedAtTime para ser reconhecida como TIME no MySQL\n",
    "    df['ScheduledArrivalTime'] = df['ScheduledArrivalTime'].apply(format_hhmmss) # Converte a coluna ScheduledArrivalTime para ser reconhecida como TIME no MySQL\n",
    "    df = df.astype({'PublishedLineName': 'string', # Converte as colunas PublishedLineName e VehicleRef para string\n",
    "        'VehicleRef': 'string', \n",
    "        'RecordedAtTime': 'string', \n",
    "        'ScheduledArrivalTime': 'string'}) \n",
    "    \n",
    "    print(\"Tipos de dados das colunas alterados.\")\n",
    "    return df\n",
    "\n",
    "\n",
    "df_dim_Line['PublishedLineName'] = df_dim_Line['PublishedLineName'].astype('string')\n",
    "df_dim_Vehicle['VehicleRef'] = df_dim_Vehicle['VehicleRef'].astype('string')\n",
    "df_fact = change_data_types(df_fact)\n",
    "\n",
    "display(Markdown(f'# {file_name_dim_Line}'))\n",
    "display(df_dim_Line.info())\n",
    "display(df_dim_Line.head())\n",
    "\n",
    "display(Markdown(f'# {file_name_dim_Vehicle}'))\n",
    "display(df_dim_Vehicle.info())\n",
    "display(df_dim_Vehicle.head())\n",
    "\n",
    "display(Markdown(f'# {file_name_fact}'))\n",
    "display(df_fact.info())\n",
    "display(df_fact.head())"
   ]
  },
  {
   "cell_type": "markdown",
   "id": "e563cc28",
   "metadata": {},
   "source": [
    "# Conexão com SGBD"
   ]
  },
  {
   "cell_type": "code",
   "execution_count": null,
   "id": "230722e6",
   "metadata": {},
   "outputs": [],
   "source": [
    "def connect_to_mysql(): # Função para conectar ao MySQL\n",
    "    try:\n",
    "        connection = ms.connect( # Conecta ao MySQL usando as credenciais fornecidas\n",
    "            host=os.getenv('MS_HOST'),\n",
    "            user=os.getenv('MS_USER'),\n",
    "            password=os.getenv('MS_PWD')\n",
    "        )\n",
    "        print(\"Conexão ao MySQL estabelecida.\")\n",
    "        return connection\n",
    "    except ms.Error as err:\n",
    "        print(f\"Erro ao conectar ao MySQL: {err}\")\n",
    "        return None\n",
    "    \n",
    "ms_connection = connect_to_mysql()"
   ]
  },
  {
   "cell_type": "code",
   "execution_count": null,
   "id": "7d78ea5b",
   "metadata": {},
   "outputs": [],
   "source": [
    "def create_cursor(ms_connection): # Função para criar um cursor do MySQL par a executar comandos SQL\n",
    "    try:\n",
    "        ms_cursor = ms_connection.cursor()\n",
    "        print(\"Cursor do MySQL criado.\")\n",
    "        return ms_cursor\n",
    "    except:\n",
    "        print(\"Erro ao criar o cursor do MySQL.\")\n",
    "        return None\n",
    "    \n",
    "ms_cursor = create_cursor(ms_connection)"
   ]
  },
  {
   "cell_type": "code",
   "execution_count": null,
   "id": "a1b99bb4",
   "metadata": {},
   "outputs": [],
   "source": [
    "def drop_db(ms_cursor, db_name): # Função para excluir um banco de dados MySQL\n",
    "    try:\n",
    "        ms_cursor.execute(f\"DROP DATABASE IF EXISTS {db_name}\")\n",
    "        print(f\"Banco de dados {db_name} excluído, se existia.\")\n",
    "    except ms.Error as err:\n",
    "        print(f\"Erro ao excluir o banco de dados {db_name}: {err}\")\n",
    "    \n",
    "db_name = 'db_bus_gps'    \n",
    "\n",
    "drop_db(ms_cursor, db_name)"
   ]
  },
  {
   "cell_type": "markdown",
   "id": "c8a2a386",
   "metadata": {},
   "source": [
    "# Criação do Banco de Dados e das Tabelas"
   ]
  },
  {
   "cell_type": "code",
   "execution_count": null,
   "id": "9d2bd324",
   "metadata": {},
   "outputs": [],
   "source": [
    "def create_db(db_name, ms_cursor): # Função para criar e selecionar um banco de dados MySQL\n",
    "    sql = f\"CREATE DATABASE IF NOT EXISTS {db_name}\"\n",
    "    try:\n",
    "        ms_cursor.execute(sql)\n",
    "        ms_cursor.execute(f\"USE {db_name}\")\n",
    "        print(f\"Banco de dados '{db_name}' criado ou já existe, e selecionado.\")\n",
    "    except ms.Error as err:\n",
    "        print(f\"Erro ao criar o banco de dados '{db_name}': {err}.\")\n",
    "        \n",
    "create_db(db_name, ms_cursor)"
   ]
  },
  {
   "cell_type": "code",
   "execution_count": null,
   "id": "5a3d2589",
   "metadata": {},
   "outputs": [],
   "source": [
    "def create_tb(tb_name, sql, ms_cursor): # Função para criar uma tabela no MySQL\n",
    "    try:\n",
    "        ms_cursor.execute(sql)\n",
    "        print(f\"Tabela '{tb_name}' criada ou já existe.\")\n",
    "    except ms.Error as err:\n",
    "        print(f\"Erro ao criar a tabela '{tb_name}': {err}.\") "
   ]
  },
  {
   "cell_type": "code",
   "execution_count": null,
   "id": "026c1013",
   "metadata": {},
   "outputs": [],
   "source": [
    "tb_name_line = 'tb_line'\n",
    "        \n",
    "sql_df_line = f'''\n",
    "    CREATE TABLE IF NOT EXISTS {tb_name_line} (\n",
    "        Published_Line_Name VARCHAR(20) NOT NULL PRIMARY KEY\n",
    "    )\n",
    "'''\n",
    "\n",
    "create_tb(tb_name_line, sql_df_line, ms_cursor) # Cria a tabela tb_line\n",
    "\n",
    "ms_cursor.execute(\"SHOW TABLES\")\n",
    "print(ms_cursor.fetchall())"
   ]
  },
  {
   "cell_type": "code",
   "execution_count": null,
   "id": "0b48d6a6",
   "metadata": {},
   "outputs": [],
   "source": [
    "tb_name_vihicle = 'tb_vehicle'\n",
    "        \n",
    "sql_df_vehicle = f'''\n",
    "    CREATE TABLE IF NOT EXISTS {tb_name_vihicle} (\n",
    "        Vehicle_Ref VARCHAR(20) NOT NULL PRIMARY KEY\n",
    "    )\n",
    "'''\n",
    "\n",
    "create_tb(tb_name_vihicle, sql_df_vehicle, ms_cursor) # Cria a tabela tb_vehicle\n",
    "\n",
    "ms_cursor.execute(\"SHOW TABLES\")\n",
    "print(ms_cursor.fetchall())"
   ]
  },
  {
   "cell_type": "code",
   "execution_count": null,
   "id": "b6fa3c6a",
   "metadata": {},
   "outputs": [],
   "source": [
    "tb_name_bus_gps = 'tb_bus_gps'\n",
    "\n",
    "sql_df_bus_gps = f'''CREATE TABLE IF NOT EXISTS {tb_name_bus_gps} (\n",
    "        Recorded_At_Time        TIME NOT NULL,\n",
    "        Direction_Ref           INT NOT NULL,\n",
    "        Published_Line_Name     VARCHAR(20) NOT NULL,\n",
    "        Vehicle_Ref             VARCHAR(20) NOT NULL,\n",
    "        Scheduled_Arrival_Time  TIME NOT NULL,\n",
    "        Recorded_A_tDate        DATE NOT NULL,\n",
    "        Diff_Arrival_Mins       INT NOT NULL,\n",
    "        Recorded_Time_Range     INT NOT NULL,\n",
    "        Scheduled_Time_Range    INT NOT NULL,\n",
    "        \n",
    "        FOREIGN KEY (Vehicle_Ref) REFERENCES tb_vehicle(Vehicle_Ref),\n",
    "        FOREIGN KEY (Published_Line_Name) REFERENCES tb_line(Published_Line_Name)\n",
    "    )\n",
    "    '''\n",
    "    \n",
    "create_tb(tb_name_bus_gps, tb_name_bus_gps, ms_cursor) # Cria a tabela tb_bus_gps\n",
    "\n",
    "ms_cursor.execute(\"SHOW TABLES\")\n",
    "\n",
    "print(ms_cursor.fetchall()) "
   ]
  },
  {
   "cell_type": "markdown",
   "id": "eeca7c0f",
   "metadata": {},
   "source": [
    "# Renomeio das colunas do DataFrame para seguir o padrão do que foi criado no Banco de Dados"
   ]
  },
  {
   "cell_type": "code",
   "execution_count": null,
   "id": "355c3cba",
   "metadata": {},
   "outputs": [],
   "source": [
    "def rename_columns(df): # Função para renomear as colunas do DataFrame para o padrão do MySQL\n",
    "    columns_mapping = {\n",
    "        'PublishedLineName': 'Published_Line_Name',\n",
    "        'VehicleRef': 'Vehicle_Ref',\n",
    "        'RecordedAtTime': 'Recorded_At_Time',\n",
    "        'ScheduledArrivalTime': 'Scheduled_Arrival_Time',\n",
    "        'RecordedAtDate': 'Recorded_A_tDate',\n",
    "        'DiffArrivalMins': 'Diff_Arrival_Mins',\n",
    "        'RecordedTimeRange': 'Recorded_Time_Range',\n",
    "        'ScheduledTimeRange': 'Scheduled_Time_Range'\n",
    "    }\n",
    "    df = df.rename(columns=columns_mapping)\n",
    "    return df\n",
    "\n",
    "df_dim_Line = rename_columns(df_dim_Line)\n",
    "df_dim_Vehicle = rename_columns(df_dim_Vehicle)\n",
    "df_fact = rename_columns(df_fact)\n",
    "\n",
    "display(df_dim_Line.columns)\n",
    "display(df_dim_Vehicle.columns)\n",
    "display(df_fact.columns)"
   ]
  },
  {
   "cell_type": "markdown",
   "id": "80a5f0af",
   "metadata": {},
   "source": [
    "# Inserção dos Dados Modelados nas Tabelas"
   ]
  },
  {
   "cell_type": "code",
   "execution_count": null,
   "id": "2f5195c1",
   "metadata": {},
   "outputs": [],
   "source": [
    "def insert_update_data(df, tb_name, ms_cursor, ms_connection): # Função para inserir dados em uma tabela MySQL\n",
    "    batch_size = 200000  # Definindo o tamanho do lote para inserção\n",
    "\n",
    "    for i in range(0, len(df), batch_size): # Itera sobre o DataFrame em lotes devido ao tamanho do DataFrame\n",
    "        chunk = df.iloc[i:i + batch_size]\n",
    "        \n",
    "        sql = f\"INSERT IGNORE INTO {tb_name} VALUES ({', '.join(['%s'] * len(chunk.columns))})\"\n",
    "        \n",
    "        try:\n",
    "            values = [tuple(row) for i, row in chunk.iterrows()]\n",
    "            ms_cursor.executemany(sql, values)\n",
    "            ms_connection.commit()\n",
    "            print(f\"{ms_cursor.rowcount} dados inseridos na tabela '{tb_name}'.\")\n",
    "        except ms.Error as err:\n",
    "            print(f\"Erro ao inserir dados na tabela {tb_name}: {err}\")\n",
    "            break\n"
   ]
  },
  {
   "cell_type": "code",
   "execution_count": null,
   "id": "593faf11",
   "metadata": {},
   "outputs": [],
   "source": [
    "insert_update_data(df_dim_Line, tb_name_line, ms_cursor, ms_connection) # Insere os dados na tabela tb_line\n",
    "\n",
    "ms_cursor.execute(f\"SELECT * FROM {tb_name_line} LIMIT 10\")\n",
    "print(ms_cursor.fetchall())"
   ]
  },
  {
   "cell_type": "code",
   "execution_count": null,
   "id": "b491c833",
   "metadata": {},
   "outputs": [],
   "source": [
    "insert_update_data(df_dim_Vehicle, tb_name_vihicle, ms_cursor, ms_connection) # Insere os dados na tabela tb_vehicle\n",
    "\n",
    "ms_cursor.execute(f\"SELECT * FROM {tb_name_vihicle} LIMIT 10\")\n",
    "print(ms_cursor.fetchall())"
   ]
  },
  {
   "cell_type": "code",
   "execution_count": null,
   "id": "6699b942",
   "metadata": {},
   "outputs": [],
   "source": [
    "insert_update_data(df_fact, tb_name_bus_gps, ms_cursor, ms_connection) # Insere os dados na tabela tb_bus_gps\n",
    "\n",
    "ms_cursor.execute(f\"SELECT * FROM {tb_name_bus_gps} LIMIT 10\")\n",
    "print(ms_cursor.fetchall())"
   ]
  },
  {
   "cell_type": "markdown",
   "id": "a3e8d255",
   "metadata": {},
   "source": [
    "# Pipeline de Execução"
   ]
  },
  {
   "cell_type": "code",
   "execution_count": null,
   "id": "74243ed5",
   "metadata": {},
   "outputs": [],
   "source": [
    "def pipeline_loader_mysql(year_month): # Função para executar o pipeline de carregamento no MySQL\n",
    "    print(f'Iniciando o pipeline de carregamento no MySQL')\n",
    "    \n",
    "    path_folder_gold_dim = '../data/temp/gold/dim/' # Caminho para a pasta de dados dimensionais\n",
    "    path_folder_gold_fact = '../data/temp/gold/fact/' # Caminho para a pasta de dados factuais\n",
    "    \n",
    "    file_name_dim_Line = 'dim_mta_PublishedLine.csv' # Nome do arquivo CSV dimensional para linhas\n",
    "    file_name_dim_Vehicle = 'dim_mta_VehicleRef.csv' # Nome do arquivo CSV dimensional para veículos\n",
    "    file_name_fact = f'fact_mta_{year_month}.csv' # Nome do arquivo CSV factual para o ano-mês especificado\n",
    "    \n",
    "    df_dim_Line = read_csv_modeled_data(path_folder_gold_dim, file_name_dim_Line) # Lê o arquivo CSV dimensional para linhas\n",
    "    df_dim_Vehicle = read_csv_modeled_data(path_folder_gold_dim, file_name_dim_Vehicle) # Lê o arquivo CSV dimensional para veículos\n",
    "    df_fact = read_csv_modeled_data(path_folder_gold_fact, file_name_fact) # Lê o arquivo CSV factual para o ano-mês especificado\n",
    "    \n",
    "    df_dim_Line['PublishedLineName'] = df_dim_Line['PublishedLineName'].astype('string') # Converte a coluna PublishedLineName para string\n",
    "    df_dim_Vehicle['VehicleRef'] = df_dim_Vehicle['VehicleRef'].astype('string') # Converte a coluna VehicleRef para string\n",
    "    df_fact = change_data_types(df_fact) # Altera os tipos de dados das colunas do DataFrame factual\n",
    "    \n",
    "    df_dim_Line = rename_columns(df_dim_Line) # Renomeia as colunas do DataFrame dimensional para o padrão do MySQL\n",
    "    df_dim_Vehicle = rename_columns(df_dim_Vehicle) # Renomeia as colunas do DataFrame dimensional para o padrão do MySQL\n",
    "    df_fact = rename_columns(df_fact) # Renomeia as colunas do DataFrame factual para o padrão do MySQL\n",
    "    \n",
    "    ms_connection = connect_to_mysql() # Conecta ao MySQL\n",
    "    ms_cursor = create_cursor(ms_connection) # Cria um cursor do MySQL para executar comandos SQL\n",
    "    \n",
    "    db_name = 'db_bus_gps'\n",
    "    tb_name_line = 'tb_line'\n",
    "    tb_name_vihicle = 'tb_vehicle'\n",
    "    tb_name_bus_gps = 'tb_bus_gps'\n",
    "    create_db(db_name, ms_cursor) # Cria o banco de dados db_bus_gps\n",
    "    create_tb(tb_name_line, sql_df_line, ms_cursor) # Cria a tabela tb_line\n",
    "    create_tb(tb_name_vihicle, sql_df_vehicle, ms_cursor) # Cria a tabela tb_vehicle\n",
    "    create_tb(tb_name_bus_gps, sql_df_bus_gps, ms_cursor) # Cria a tabela tb_bus_gps\n",
    "    \n",
    "    insert_update_data(df_dim_Line, tb_name_line, ms_cursor, ms_connection) # Insere os dados na tabela tb_line\n",
    "    insert_update_data(df_dim_Vehicle, tb_name_vihicle, ms_cursor, ms_connection) # Insere os dados na tabela tb_vehicle\n",
    "    insert_update_data(df_fact, tb_name_bus_gps, ms_cursor, ms_connection) # Insere os dados na tabela tb_bus_gps\n",
    "    \n",
    "    print(f'Pipeline de carregamento no MySQL concluído para o ano-mês: {year_month}')\n",
    "    \n",
    "pipeline_loader_mysql(year_month)"
   ]
  },
  {
   "cell_type": "code",
   "execution_count": null,
   "id": "a40fb358",
   "metadata": {},
   "outputs": [],
   "source": [
    "year_month_list = [] # Lista para armazenar os anos e meses\n",
    "\n",
    "year_month_list.append(extract_year_month(pd.to_datetime('2017-06-01'))) # Adiciona o ano e mês de junho de 2017\n",
    "year_month_list.append(extract_year_month(pd.to_datetime('2017-08-01'))) # Adiciona o ano e mês de agosto de 2017\n",
    "year_month_list.append(extract_year_month(pd.to_datetime('2017-10-01'))) # Adiciona o ano e mês de outubro de 2017\n",
    "year_month_list.append(extract_year_month(pd.to_datetime('2017-12-01'))) # Adiciona o ano e mês de dezembro de 2017\n",
    "\n",
    "for year_month in year_month_list: # Itera sobre os anos e meses na lista, simulando o Airflow\n",
    "    pipeline_loader_mysql(year_month)  # Executa o pipeline para o ano e mês especificados"
   ]
  }
 ],
 "metadata": {
  "kernelspec": {
   "display_name": ".venv",
   "language": "python",
   "name": "python3"
  },
  "language_info": {
   "codemirror_mode": {
    "name": "ipython",
    "version": 3
   },
   "file_extension": ".py",
   "mimetype": "text/x-python",
   "name": "python",
   "nbconvert_exporter": "python",
   "pygments_lexer": "ipython3",
   "version": "3.10.12"
  }
 },
 "nbformat": 4,
 "nbformat_minor": 5
}
