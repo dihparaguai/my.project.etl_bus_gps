{
 "cells": [
  {
   "cell_type": "markdown",
   "id": "ff6647a7",
   "metadata": {},
   "source": [
    "# Importações"
   ]
  },
  {
   "cell_type": "code",
   "execution_count": null,
   "id": "ccf3e8bb",
   "metadata": {},
   "outputs": [],
   "source": [
    "import os\n",
    "import pandas as pd"
   ]
  },
  {
   "cell_type": "markdown",
   "id": "F1ISP4vwHEzB",
   "metadata": {
    "id": "F1ISP4vwHEzB"
   },
   "source": [
    "# Ambiente de Execução: Colab X VSCode"
   ]
  },
  {
   "cell_type": "code",
   "execution_count": null,
   "id": "81668e7a",
   "metadata": {
    "id": "81668e7a"
   },
   "outputs": [],
   "source": [
    "# # Usar no Google Colab\n",
    "# data_bronze = '/content/'"
   ]
  },
  {
   "cell_type": "code",
   "execution_count": null,
   "id": "ZxDyq9gzGp7J",
   "metadata": {
    "id": "ZxDyq9gzGp7J"
   },
   "outputs": [],
   "source": [
    "# Usar no VSCode\n",
    "data_bronze = os.path.abspath('../data/bronze')"
   ]
  },
  {
   "cell_type": "markdown",
   "id": "ZMb9x2ArHSPS",
   "metadata": {
    "id": "ZMb9x2ArHSPS"
   },
   "source": [
    "# Leitura e informações de apenas um arquivo\n",
    "- Separado em 'chunks' devido o volume de dados"
   ]
  },
  {
   "cell_type": "code",
   "execution_count": null,
   "id": "e5581cca",
   "metadata": {
    "colab": {
     "base_uri": "https://localhost:8080/",
     "height": 626
    },
    "executionInfo": {
     "elapsed": 217,
     "status": "ok",
     "timestamp": 1748442027769,
     "user": {
      "displayName": "Diego Paraguai",
      "userId": "05044946312759002296"
     },
     "user_tz": 180
    },
    "id": "e5581cca",
    "outputId": "3f337a3d-869d-4b4b-9596-a820e07c1b6c"
   },
   "outputs": [],
   "source": [
    "def read_csv():\n",
    "    f = 'mta_1706.csv'\n",
    "    return pd.read_csv(os.path.join(data_bronze, f), on_bad_lines='skip', chunksize=10000) # Devido a limitação de memória, o arquivo CSV é lido em pedaços (chunks), já desconsiderando as linhas com erros de quantidade de colunas\n",
    "\n",
    "for i, chunk in enumerate(read_csv()): # Exibir o cabeçalho do primeiro pedaço (chunk) do DataFrame\n",
    "    if i == 0:\n",
    "        display(chunk.head(10))\n",
    "    else:\n",
    "        break"
   ]
  },
  {
   "cell_type": "code",
   "execution_count": null,
   "id": "2c7646bc",
   "metadata": {
    "colab": {
     "base_uri": "https://localhost:8080/",
     "height": 1000
    },
    "executionInfo": {
     "elapsed": 252,
     "status": "ok",
     "timestamp": 1748442028023,
     "user": {
      "displayName": "Diego Paraguai",
      "userId": "05044946312759002296"
     },
     "user_tz": 180
    },
    "id": "2c7646bc",
    "outputId": "a763038b-49ab-47fd-c0ef-852238ce3099"
   },
   "outputs": [],
   "source": [
    "for i, chunk in enumerate(read_csv()): # Informações gerais do primeiro pedaço (chunk) do DataFrame\n",
    "    if i == 0:\n",
    "        print('Informações de nomes de colunas, tipos de dados, quantidade de valores não nulos')\n",
    "        display(chunk.info())\n",
    "\n",
    "        print('\\n\\nInformações estatísticas do DataFrame como: contagem, média, desvio padrão, mínimo, máximo, etc.')\n",
    "        display(chunk.describe())\n",
    "\n",
    "        print('\\n\\n Quantidade vallores nulls e NaN')\n",
    "        display(chunk.isnull().sum())\n",
    "        display(chunk.isna().sum())\n",
    "\n",
    "        print('\\n\\n Quantidade de valores únicos por coluna')\n",
    "        display(chunk.nunique())\n",
    "    else:\n",
    "        break"
   ]
  },
  {
   "cell_type": "markdown",
   "id": "9LzJT76mMBic",
   "metadata": {
    "id": "9LzJT76mMBic"
   },
   "source": [
    "# Explorar o comportamento de um veículo em uma linha e no ponto de parada\n",
    "- Filtrar 'VehicleRef' == 'NYCT_7571'"
   ]
  },
  {
   "cell_type": "code",
   "execution_count": null,
   "id": "83fd2372",
   "metadata": {
    "id": "83fd2372"
   },
   "outputs": [],
   "source": [
    "df_veic_list = [] # Lista para guardar todos os chunks filtrados por veículo\n",
    "\n",
    "for chunk in read_csv(): # Filtra e adiciona cada chunk na lista\n",
    "    df_veic_temp = chunk[(chunk['VehicleRef'] == 'NYCT_7571')]\n",
    "    df_veic_list.append(df_veic_temp)"
   ]
  },
  {
   "cell_type": "code",
   "execution_count": null,
   "id": "0489eb71",
   "metadata": {
    "colab": {
     "base_uri": "https://localhost:8080/",
     "height": 790
    },
    "executionInfo": {
     "elapsed": 436,
     "status": "ok",
     "timestamp": 1748442066949,
     "user": {
      "displayName": "Diego Paraguai",
      "userId": "05044946312759002296"
     },
     "user_tz": 180
    },
    "id": "0489eb71",
    "outputId": "a889a4ce-d363-401d-f5ac-cc3ca7878cc7"
   },
   "outputs": [],
   "source": [
    "df_veic_list_concat = pd.concat(df_veic_list, ignore_index=True) # Junta todos os chunks filtrados num único DataFrame, resetando os index\n",
    "display(df_veic_list_concat)"
   ]
  },
  {
   "cell_type": "markdown",
   "id": "5Pw_rJrFRsXu",
   "metadata": {
    "id": "5Pw_rJrFRsXu"
   },
   "source": [
    "## Filtrar a coluna 'ArrivalProximityText' para 'at stop' do veiculo especifico filtrado\n",
    "\n",
    "---\n",
    "\n"
   ]
  },
  {
   "cell_type": "code",
   "execution_count": null,
   "id": "pMoFcsVmQ-TS",
   "metadata": {
    "colab": {
     "base_uri": "https://localhost:8080/",
     "height": 35
    },
    "executionInfo": {
     "elapsed": 3,
     "status": "ok",
     "timestamp": 1748442066953,
     "user": {
      "displayName": "Diego Paraguai",
      "userId": "05044946312759002296"
     },
     "user_tz": 180
    },
    "id": "pMoFcsVmQ-TS",
    "outputId": "54e8e356-8077-41a4-ec19-aed4abfe4124"
   },
   "outputs": [],
   "source": [
    "display(df_veic_list_concat['ArrivalProximityText'].drop_duplicates().to_list()) # Lista todas as categorias sobre a proximidade do ponto de parada"
   ]
  },
  {
   "cell_type": "code",
   "execution_count": null,
   "id": "WPA_a-0iSNN6",
   "metadata": {
    "colab": {
     "base_uri": "https://localhost:8080/",
     "height": 738
    },
    "executionInfo": {
     "elapsed": 135,
     "status": "ok",
     "timestamp": 1748442067090,
     "user": {
      "displayName": "Diego Paraguai",
      "userId": "05044946312759002296"
     },
     "user_tz": 180
    },
    "id": "WPA_a-0iSNN6",
    "outputId": "5369aa69-761a-44c6-bb9a-9d46a5e71e86"
   },
   "outputs": [],
   "source": [
    "df_veic_arrival_proximity_text = df_veic_list_concat[df_veic_list_concat['ArrivalProximityText'] == 'at stop'].reset_index() # Filtra apenas informações de chegada no ponto para o veiculo especifico\n",
    "display(df_veic_arrival_proximity_text)"
   ]
  },
  {
   "cell_type": "markdown",
   "id": "k-GmOoynSyHb",
   "metadata": {
    "id": "k-GmOoynSyHb"
   },
   "source": [
    "## Filtrar a coluna 'PublishedLineName' para 'B8' do veiculo especifico filtrado, após filtro de 'at stop' para 'ArrivalProximityText'"
   ]
  },
  {
   "cell_type": "code",
   "execution_count": null,
   "id": "dYBpXXquTDq7",
   "metadata": {
    "colab": {
     "base_uri": "https://localhost:8080/",
     "height": 35
    },
    "executionInfo": {
     "elapsed": 21,
     "status": "ok",
     "timestamp": 1748442067091,
     "user": {
      "displayName": "Diego Paraguai",
      "userId": "05044946312759002296"
     },
     "user_tz": 180
    },
    "id": "dYBpXXquTDq7",
    "outputId": "abaa4d31-98c9-4943-9d21-81634cae4af5"
   },
   "outputs": [],
   "source": [
    "display(df_veic_arrival_proximity_text['PublishedLineName'].drop_duplicates().to_list()) # Lista todas as linhas que o veiculo filtrado operou"
   ]
  },
  {
   "cell_type": "code",
   "execution_count": null,
   "id": "Nlyy89a9THo7",
   "metadata": {
    "colab": {
     "base_uri": "https://localhost:8080/",
     "height": 671
    },
    "executionInfo": {
     "elapsed": 114,
     "status": "ok",
     "timestamp": 1748442067203,
     "user": {
      "displayName": "Diego Paraguai",
      "userId": "05044946312759002296"
     },
     "user_tz": 180
    },
    "id": "Nlyy89a9THo7",
    "outputId": "d4ee7646-aef5-42a5-9d21-032d19497cb9"
   },
   "outputs": [],
   "source": [
    "df_veic_published_line_name = df_veic_arrival_proximity_text[df_veic_list_concat['PublishedLineName'] == 'B8'].reset_index() # Filtra apenas a linha B8 depois do filtrar o veiculo e ponto de parada\n",
    "display(df_veic_published_line_name)"
   ]
  },
  {
   "cell_type": "markdown",
   "id": "4z78AMj-vmyU",
   "metadata": {
    "id": "4z78AMj-vmyU"
   },
   "source": [
    "# Explorar os horários inicial e final dos veículos de uma linha\n",
    "- Filtrar 'PublishedLineName' == 'B8'"
   ]
  },
  {
   "cell_type": "code",
   "execution_count": null,
   "id": "Th7XwHvQQmbi",
   "metadata": {
    "id": "Th7XwHvQQmbi"
   },
   "outputs": [],
   "source": [
    "df_line_list = [] # Lista para guardar todos os chunks filtrados por veículo\n",
    "\n",
    "for chunk in read_csv(): # Filtra e adiciona cada chunk na lista\n",
    "    df_line_temp = chunk[(chunk['PublishedLineName'] == 'B8')]\n",
    "    df_line_list.append(df_line_temp)"
   ]
  },
  {
   "cell_type": "code",
   "execution_count": null,
   "id": "sW7QlW4YxawV",
   "metadata": {
    "colab": {
     "base_uri": "https://localhost:8080/",
     "height": 721
    },
    "executionInfo": {
     "elapsed": 752,
     "status": "ok",
     "timestamp": 1748442108070,
     "user": {
      "displayName": "Diego Paraguai",
      "userId": "05044946312759002296"
     },
     "user_tz": 180
    },
    "id": "sW7QlW4YxawV",
    "outputId": "38137af2-d587-4f26-d78c-d7bfddc6aee5"
   },
   "outputs": [],
   "source": [
    "df_line_list_concat = pd.concat(df_line_list, ignore_index=True) # Junta todos os chunks filtrados num único DataFrame, resetando os index\n",
    "display(df_line_list_concat)"
   ]
  },
  {
   "cell_type": "markdown",
   "id": "Ces33qbbGosT",
   "metadata": {
    "id": "Ces33qbbGosT"
   },
   "source": [
    "## Agrupa os dados por veiculo e data para a linha especificada\n",
    "- Converte a coluna de timestamp em datetime\n",
    "- Cria a coluna com a data a partir do timestamp"
   ]
  },
  {
   "cell_type": "code",
   "execution_count": null,
   "id": "W4Bzv4FVAdZW",
   "metadata": {
    "colab": {
     "base_uri": "https://localhost:8080/"
    },
    "executionInfo": {
     "elapsed": 134,
     "status": "ok",
     "timestamp": 1748442108206,
     "user": {
      "displayName": "Diego Paraguai",
      "userId": "05044946312759002296"
     },
     "user_tz": 180
    },
    "id": "W4Bzv4FVAdZW",
    "outputId": "0866b927-3128-4c78-9f78-c4d17735a39a"
   },
   "outputs": [],
   "source": [
    "df_line = df_line_list_concat.copy() # Copia o DataFrame\n",
    "df_line['RecordedAtTime'] = pd.to_datetime(df_line['RecordedAtTime']) # Converte em tipo datetime\n",
    "\n",
    "df_line['RecordedAtDate'] = pd.to_datetime(df_line['RecordedAtTime']).dt.date # Cria uma coluna com apenas 'data'\n",
    "df_line['RecordedAtDate'] = pd.to_datetime(df_line['RecordedAtDate']) # Converte em tipo datetime\n",
    "\n",
    "display(df_line.info())"
   ]
  },
  {
   "cell_type": "code",
   "execution_count": null,
   "id": "m3Jun4OUzWWH",
   "metadata": {
    "colab": {
     "base_uri": "https://localhost:8080/"
    },
    "executionInfo": {
     "elapsed": 118,
     "status": "ok",
     "timestamp": 1748442108336,
     "user": {
      "displayName": "Diego Paraguai",
      "userId": "05044946312759002296"
     },
     "user_tz": 180
    },
    "id": "m3Jun4OUzWWH",
    "outputId": "1e265e48-2de2-43f4-bce6-c7dde7f62fe4"
   },
   "outputs": [],
   "source": [
    "df_line_grouped = df_line.groupby(['RecordedAtDate', 'VehicleRef'])['RecordedAtTime'].agg(['min', 'max']).reset_index() # Agrupa os dados por Veiculo e Data\n",
    "\n",
    "df_line_time_range = df_line_grouped.copy() # Copia o DataFrame\n",
    "df_line_time_range['time_range'] = df_line_grouped['max'] - df_line_grouped['min'] # Adiciona uma coluna de duração da operação do Veiculo por Data\n",
    "\n",
    "display(df_line_time_range.info())\n",
    "display(df_line_time_range)"
   ]
  },
  {
   "cell_type": "markdown",
   "id": "xnQlOUdFHxX9",
   "metadata": {
    "id": "xnQlOUdFHxX9"
   },
   "source": [
    "# Explorar a origem e destino de cada linha"
   ]
  },
  {
   "cell_type": "code",
   "execution_count": null,
   "id": "39130835",
   "metadata": {
    "id": "39130835"
   },
   "outputs": [],
   "source": [
    "df_list_orig_dest = [] # Lista para guardar todas as rotas (origem e destino por linha)\n",
    "\n",
    "for chunk in read_csv(): # Filtra, remove duplicatas e adiciona cada chunk na lista\n",
    "    df_list_orig_dest_temp = chunk[['PublishedLineName', 'OriginName', 'DestinationName', 'DirectionRef']].drop_duplicates()\n",
    "    df_list_orig_dest.append(df_list_orig_dest_temp)"
   ]
  },
  {
   "cell_type": "code",
   "execution_count": null,
   "id": "hnrHth9-JAxZ",
   "metadata": {
    "colab": {
     "base_uri": "https://localhost:8080/",
     "height": 423
    },
    "executionInfo": {
     "elapsed": 404,
     "status": "ok",
     "timestamp": 1748442151505,
     "user": {
      "displayName": "Diego Paraguai",
      "userId": "05044946312759002296"
     },
     "user_tz": 180
    },
    "id": "hnrHth9-JAxZ",
    "outputId": "31c04f74-0c60-49f2-c8d5-5e1596a6f9a5"
   },
   "outputs": [],
   "source": [
    "df_list_orig_dest_concat = pd.concat(df_list_orig_dest, ignore_index=True) # Junta todos os chunks filtrados num único DataFrame, resetando os index\n",
    "df_list_orig_dest_concat.drop_duplicates(inplace=True) # { O parametro \"inplace\" altera o DataFrame sem necessidade de atribuir a ele mesmo }\n",
    "\n",
    "df_list_orig_dest_concat.sort_values(by=['PublishedLineName', 'OriginName','DestinationName'], ascending=True, inplace=True, ignore_index=True) # Ordena a lista de rotas por Linha, Origem e Destino\n",
    "\n",
    "display(df_list_orig_dest_concat)"
   ]
  },
  {
   "cell_type": "markdown",
   "id": "rl7VppdSMFc9",
   "metadata": {
    "id": "rl7VppdSMFc9"
   },
   "source": [
    "## Verificar se o sentido 0 ou 1 são rotas diferentes ou a mesma com sentido diferente\n",
    "### Exemplo de Análise:\n",
    "- - \"0 : 1 AV/125 ST -> INWOOD 220 ST via AMSTERDAM via BWAY\"\n",
    "- - \"1 : INWOOD 220 ST via AMSTERDAM via BWAY -> 1 AV/125 ST\"\n",
    "\n",
    "### Separar as rotas por sentido\n",
    "- - Renomear a origem e destino para TP/TS para o sentido 0, e TS/TP para o sentido 1, para verificar se as rotas são as mesmas, apenas mudando o sentido\n",
    "- - - A representação do Destino no sentido 0 será o TP\n",
    "- - - A representação da Origem no sentido 1 também será o TP"
   ]
  },
  {
   "cell_type": "code",
   "execution_count": null,
   "id": "9e3d5ec3",
   "metadata": {
    "colab": {
     "base_uri": "https://localhost:8080/",
     "height": 423
    },
    "executionInfo": {
     "elapsed": 112,
     "status": "ok",
     "timestamp": 1748442151623,
     "user": {
      "displayName": "Diego Paraguai",
      "userId": "05044946312759002296"
     },
     "user_tz": 180
    },
    "id": "9e3d5ec3",
    "outputId": "cd1faa71-6a5d-497d-b526-39bd7be6c8f8"
   },
   "outputs": [],
   "source": [
    "df_route_0 = df_list_orig_dest_concat[df_list_orig_dest_concat['DirectionRef'] == 0].reset_index(drop=True) # Filtrar rotas no sentido 0\n",
    "\n",
    "df_route_0.rename(columns={'OriginName': 'TP', 'DestinationName': 'TS'}, inplace=True) # Padronizar Origem e Destino como ponto padrão (TP/TS)\n",
    "\n",
    "display(df_route_0)"
   ]
  },
  {
   "cell_type": "code",
   "execution_count": null,
   "id": "1d077866",
   "metadata": {
    "colab": {
     "base_uri": "https://localhost:8080/",
     "height": 423
    },
    "executionInfo": {
     "elapsed": 23,
     "status": "ok",
     "timestamp": 1748442151655,
     "user": {
      "displayName": "Diego Paraguai",
      "userId": "05044946312759002296"
     },
     "user_tz": 180
    },
    "id": "1d077866",
    "outputId": "fed6a253-6cd1-47f9-f6aa-dcc1e95b4aa4"
   },
   "outputs": [],
   "source": [
    "df_route_1 = df_list_orig_dest_concat[df_list_orig_dest_concat['DirectionRef'] == 1].reset_index(drop=True) # Filtrar rotas no sentido 1\n",
    "\n",
    "df_route_1.rename(columns={'OriginName': 'TS', 'DestinationName': 'TP'}, inplace=True) # Padronizar Origem e Destino como ponto padrão (TP/TS)\n",
    "\n",
    "display(df_route_1)"
   ]
  },
  {
   "cell_type": "code",
   "execution_count": null,
   "id": "6KLHi0YMMkRJ",
   "metadata": {
    "colab": {
     "base_uri": "https://localhost:8080/",
     "height": 35
    },
    "executionInfo": {
     "elapsed": 6,
     "status": "ok",
     "timestamp": 1748442151665,
     "user": {
      "displayName": "Diego Paraguai",
      "userId": "05044946312759002296"
     },
     "user_tz": 180
    },
    "id": "6KLHi0YMMkRJ",
    "outputId": "5267c983-7d73-4c1a-8653-2714e745b2c3"
   },
   "outputs": [],
   "source": [
    "# Verificar se após a separação do sentidos a quantidade de dados permaneceu\n",
    "df_original = len(df_list_orig_dest_concat)\n",
    "df_split_routes = len(df_route_0) + len(df_route_1)\n",
    "\n",
    "display(df_original == df_split_routes)"
   ]
  },
  {
   "cell_type": "markdown",
   "id": "z_uJpBz_O9f5",
   "metadata": {
    "id": "z_uJpBz_O9f5"
   },
   "source": [
    "## Juntar os DF de cada sentido e remover duplicadas para verificar se a quantidade mudou em relação ao original"
   ]
  },
  {
   "cell_type": "code",
   "execution_count": null,
   "id": "613d5a10",
   "metadata": {
    "colab": {
     "base_uri": "https://localhost:8080/",
     "height": 423
    },
    "executionInfo": {
     "elapsed": 20,
     "status": "ok",
     "timestamp": 1748442151683,
     "user": {
      "displayName": "Diego Paraguai",
      "userId": "05044946312759002296"
     },
     "user_tz": 180
    },
    "id": "613d5a10",
    "outputId": "a2623878-f71e-4dec-d457-b20a2fedf2b2"
   },
   "outputs": [],
   "source": [
    "df_route = pd.concat([df_route_0, df_route_1], ignore_index=True)\n",
    "\n",
    "df_route.drop_duplicates().reset_index(drop=True, inplace=True)\n",
    "\n",
    "display(df_route)"
   ]
  },
  {
   "cell_type": "markdown",
   "id": "xCDcImggQig7",
   "metadata": {
    "id": "xCDcImggQig7"
   },
   "source": [
    "- _Independente se a linha é mesma, e as origens e destinos unidos por ponto (TP/TS), a quantidade não mudou, dando a entender que as rotas são exclusivas para cada linha_"
   ]
  },
  {
   "cell_type": "code",
   "execution_count": null,
   "id": "EZGJZ0zKQTok",
   "metadata": {
    "colab": {
     "base_uri": "https://localhost:8080/",
     "height": 35
    },
    "executionInfo": {
     "elapsed": 4,
     "status": "ok",
     "timestamp": 1748442151687,
     "user": {
      "displayName": "Diego Paraguai",
      "userId": "05044946312759002296"
     },
     "user_tz": 180
    },
    "id": "EZGJZ0zKQTok",
    "outputId": "e25df978-9dda-4575-c8b0-c29cf15cd7bd"
   },
   "outputs": [],
   "source": [
    "# Verificar se após a união do sentidos a quantidade de dados permaneceu\n",
    "display(len(df_list_orig_dest_concat) == len(df_route))"
   ]
  }
 ],
 "metadata": {
  "colab": {
   "collapsed_sections": [
    "F1ISP4vwHEzB",
    "ZMb9x2ArHSPS",
    "9LzJT76mMBic",
    "4z78AMj-vmyU",
    "Ces33qbbGosT",
    "xnQlOUdFHxX9"
   ],
   "provenance": [],
   "toc_visible": true
  },
  "kernelspec": {
   "display_name": ".venv",
   "language": "python",
   "name": "python3"
  },
  "language_info": {
   "codemirror_mode": {
    "name": "ipython",
    "version": 3
   },
   "file_extension": ".py",
   "mimetype": "text/x-python",
   "name": "python",
   "nbconvert_exporter": "python",
   "pygments_lexer": "ipython3",
   "version": "3.10.12"
  }
 },
 "nbformat": 4,
 "nbformat_minor": 5
}
