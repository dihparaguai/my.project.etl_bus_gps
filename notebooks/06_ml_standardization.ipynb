{
 "cells": [
  {
   "cell_type": "code",
   "execution_count": null,
   "id": "59130f79",
   "metadata": {},
   "outputs": [],
   "source": [
    "import os\n",
    "import pandas as pd\n",
    "import numpy as np"
   ]
  },
  {
   "cell_type": "code",
   "execution_count": null,
   "id": "3aa51ae5",
   "metadata": {},
   "outputs": [],
   "source": [
    "# # Usar no Google Colab\n",
    "# from google.colab import auth\n",
    "# auth.authenticate_user()\n",
    "# path_folder_bronze = '/content/'"
   ]
  },
  {
   "cell_type": "code",
   "execution_count": null,
   "id": "137dd13b",
   "metadata": {},
   "outputs": [],
   "source": [
    "# Usar no VSCode\n",
    "path_folder_silver = os.path.abspath('../data/temp/silver')\n",
    "os.environ[\"GOOGLE_APPLICATION_CREDENTIALS\"] = \"../gcp_key.json\""
   ]
  },
  {
   "cell_type": "code",
   "execution_count": null,
   "id": "ad64e7ba",
   "metadata": {},
   "outputs": [],
   "source": [
    "def extract_year_month(date): # Função para extrair o ano e o mês de uma data\n",
    "    return date.strftime('%y%m')\n",
    "\n",
    "year_month = extract_year_month(pd.to_datetime('2017-06-01'))  # Exemplo de uso da função, como se fosse o dia 01 de junho de 2017\n",
    "print(f'Year-Month: {year_month}')"
   ]
  },
  {
   "cell_type": "code",
   "execution_count": null,
   "id": "28f1f526",
   "metadata": {},
   "outputs": [],
   "source": [
    "def read_csv_cleaned(path_folder_silver, file_name_silver): # Função para ler o arquivo CSV limpo\n",
    "    df = pd.read_csv(os.path.join(path_folder_silver, file_name_silver))\n",
    "    \n",
    "    print(f'Arquivo \"{file_name_silver}\" lido.')\n",
    "    return df\n",
    "\n",
    "file_name_silver = f'mta_{year_month}_cleaned.csv'\n",
    "\n",
    "df = read_csv_cleaned(path_folder_silver, file_name_silver)\n",
    "display(df.head(15))\n",
    "display(df.info())"
   ]
  },
  {
   "cell_type": "code",
   "execution_count": null,
   "id": "2dd91000",
   "metadata": {},
   "outputs": [],
   "source": [
    "def remove_columns(df, columns_to_remove): # Função para remover colunas do DataFrame\n",
    "    df = df.drop(columns=columns_to_remove)\n",
    "    print(f'Colunas removidas: {columns_to_remove}')\n",
    "    return df\n",
    "\n",
    "df_ml = remove_columns(df, ['RecordedTimeRange', 'ScheduledTimeRange'])\n",
    "\n",
    "display(df_ml.head(15))\n",
    "display(df_ml.info())"
   ]
  },
  {
   "cell_type": "code",
   "execution_count": null,
   "id": "689b3199",
   "metadata": {},
   "outputs": [],
   "source": [
    "def remove_outliers_iqr(df, column_name): # Função para remover outliers usando o método IQR (Intervalo Interquartil)\n",
    "    q1 = df[column_name].quantile(0.25)\n",
    "    q3 = df[column_name].quantile(0.75)\n",
    "    iqr = q3 - q1\n",
    "\n",
    "    lower_bound = q1 - 1.5 * iqr\n",
    "    upper_bound = q3 + 1.5 * iqr\n",
    "    print(f'Limite inferior: {lower_bound}, Limite superior: {upper_bound}')\n",
    "\n",
    "    df = df[(df[column_name] > lower_bound) & (df[column_name] < upper_bound)]\n",
    "\n",
    "    print(f'Outliers removidos da coluna \"{column_name}\" usando IQR.')\n",
    "    return df\n",
    "\n",
    "\n",
    "df_ml = remove_outliers_iqr(df_ml, 'DiffArrivalMins')\n",
    "\n",
    "df_ml = df_ml.reset_index(drop=True)\n",
    "display(df_ml.head(15))\n",
    "display(df_ml.info())"
   ]
  },
  {
   "cell_type": "code",
   "execution_count": null,
   "id": "2363335c",
   "metadata": {},
   "outputs": [],
   "source": [
    "def transform_timedelta_to_seconds(df, column_name): # Função para transformar uma coluna de timedelta em segundos\n",
    "    df[column_name] = pd.to_timedelta(df[column_name])\n",
    "    df[column_name] = df[column_name].dt.total_seconds().astype(int)\n",
    "    print(f'Coluna \"{column_name}\" transformada em segundos.')\n",
    "    return df\n",
    "\n",
    "df_ml = transform_timedelta_to_seconds(df_ml, 'RecordedAtTime')\n",
    "df_ml = transform_timedelta_to_seconds(df_ml, 'ScheduledArrivalTime')\n",
    "\n",
    "display(df_ml.head(15))"
   ]
  },
  {
   "cell_type": "code",
   "execution_count": null,
   "id": "0207877e",
   "metadata": {},
   "outputs": [],
   "source": [
    "\n",
    "def transform_date_to_days(df, column_name): # Função para transformar uma coluna de date em dias desde uma data de referência\n",
    "    df[column_name] = pd.to_datetime(df[column_name])\n",
    "    \n",
    "    stdate = pd.Timestamp('2017-01-01')  # Data de referência para o cálculo dos dias\n",
    "    \n",
    "    df['RecordedAtDate'] = (df['RecordedAtDate'] - stdate).dt.total_seconds()\n",
    "    df['RecordedAtDate'] = df['RecordedAtDate'] // (24 * 3600)  # Convertendo para dias\n",
    "    df['RecordedAtDate'] = df['RecordedAtDate'].astype(int)\n",
    "    \n",
    "    print(f'Coluna \"{column_name}\" transformada para dias desde a data de referência.')\n",
    "    return df\n",
    "\n",
    "df_ml = transform_date_to_days(df_ml, 'RecordedAtDate')\n",
    "\n",
    "display(df_ml.head(15))"
   ]
  },
  {
   "cell_type": "code",
   "execution_count": null,
   "id": "d27138af",
   "metadata": {},
   "outputs": [],
   "source": []
  },
  {
   "cell_type": "code",
   "execution_count": null,
   "id": "97b3056c",
   "metadata": {},
   "outputs": [],
   "source": [
    "df_ml['PublishedLineName_hash'] = df_ml['PublishedLineName'].apply(lambda x: hash(x))\n",
    "display(df_ml[['PublishedLineName', 'PublishedLineName_hash']].head(15))"
   ]
  }
 ],
 "metadata": {
  "kernelspec": {
   "display_name": ".venv",
   "language": "python",
   "name": "python3"
  },
  "language_info": {
   "codemirror_mode": {
    "name": "ipython",
    "version": 3
   },
   "file_extension": ".py",
   "mimetype": "text/x-python",
   "name": "python",
   "nbconvert_exporter": "python",
   "pygments_lexer": "ipython3",
   "version": "3.10.12"
  }
 },
 "nbformat": 4,
 "nbformat_minor": 5
}
